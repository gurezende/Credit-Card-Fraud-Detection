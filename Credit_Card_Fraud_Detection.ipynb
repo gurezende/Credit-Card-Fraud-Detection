{
  "nbformat": 4,
  "nbformat_minor": 0,
  "metadata": {
    "colab": {
      "name": "Credit_Card_Fraud_Detection.ipynb",
      "provenance": []
    },
    "kernelspec": {
      "name": "python3",
      "display_name": "Python 3"
    },
    "language_info": {
      "name": "python"
    }
  },
  "cells": [
    {
      "cell_type": "markdown",
      "source": [
        "# **Data Science Project**\n",
        "by [Gustavo R Santos](https://www.linkedin.com/in/gurezende/)\n",
        "\n",
        "---\n",
        "\n",
        "### Predicting fraud on credit card transactions\n",
        "\n",
        "#### Project Description:\n",
        "This is a classic classification project in Data Science where a dataset from 2013 with 284,807 transactions containing 492 frauds is provided. The **purpose** is to work with the data and train a model to predict which transactions are potential frauds or not.\n",
        "\n",
        "#### Challenges:\n",
        "The dataset does not bring any named feature. For confidentiality purposes, the data is provided in a normalized form (after PCA) and the variables are numbers (V1, V2, V3...).\n",
        "The data is highly unbalanced, what will need to be corrected prior to training.\n",
        "\n",
        "#### Prediction:\n",
        "The feature *'Class'* is the response variable and it takes value 1 in case of fraud and 0 otherwise."
      ],
      "metadata": {
        "id": "Jg72Peepot6P"
      }
    },
    {
      "cell_type": "markdown",
      "source": [
        "### Imports"
      ],
      "metadata": {
        "id": "l3SQHVXWuUtJ"
      }
    },
    {
      "cell_type": "code",
      "execution_count": 243,
      "metadata": {
        "colab": {
          "base_uri": "https://localhost:8080/"
        },
        "id": "Yf_6DC1_omki",
        "outputId": "735ecc20-33a7-48c0-d3bd-6f821d768bd2"
      },
      "outputs": [
        {
          "output_type": "stream",
          "name": "stdout",
          "text": [
            "Using python version 3.7.13\n",
            "Using pandas version 1.3.5\n",
            "Using seaborn version 0.11.2\n"
          ]
        }
      ],
      "source": [
        "from sklearn import model_selection\n",
        "# Basics\n",
        "import pandas as pd\n",
        "import numpy as np\n",
        "\n",
        "# Data Visualization\n",
        "import seaborn as sns\n",
        "import matplotlib.pyplot as plt\n",
        "\n",
        "# Scaling\n",
        "from sklearn.preprocessing import StandardScaler\n",
        "from sklearn.model_selection import train_test_split\n",
        "\n",
        "# Undersampling\n",
        "from imblearn.under_sampling import RandomUnderSampler\n",
        "\n",
        "# Oversampling\n",
        "from imblearn.over_sampling import SMOTE \n",
        "\n",
        "# Grid Search\n",
        "from sklearn.model_selection import GridSearchCV\n",
        "\n",
        "# Machine Learning\n",
        "from sklearn.model_selection import cross_validate, KFold\n",
        "from sklearn.tree import DecisionTreeClassifier\n",
        "from sklearn.ensemble import RandomForestClassifier, GradientBoostingClassifier\n",
        "from sklearn.linear_model import LogisticRegression\n",
        "\n",
        "# Metrics\n",
        "from sklearn.metrics import classification_report\n",
        "from sklearn.metrics import confusion_matrix\t\n",
        "from sklearn.metrics import f1_score\n",
        "from sklearn.metrics import precision_score\n",
        "from sklearn.metrics import recall_score\n",
        "\n",
        "# Python Versions\n",
        "from platform import python_version\n",
        "print(f'Using python version {python_version()}')\n",
        "print(f'Using pandas version {pd.__version__}')\n",
        "print(f'Using seaborn version {sns.__version__}')"
      ]
    },
    {
      "cell_type": "markdown",
      "source": [
        "## Dataset\n",
        "You can find this dataset in the following [link](https://tinyurl.com/ypm4wx4n).\n",
        "\n",
        "The dataset contains transactions made by credit cards in September 2013 by European cardholders.The transactions occurred in two days, where we have 262 frauds out of 284,807 transactions. The dataset is highly unbalanced, the positive class (frauds) account for 0.172% of all transactions.\n",
        "\n",
        "It contains only numerical input variables which are the result of a PCA transformation. \n",
        "* Features V1, V2, … V28 are the principal components obtained with PCA, the only features which have not been transformed with PCA are 'Time' and 'Amount'. \n",
        "* Feature 'Time' contains the seconds elapsed between each transaction and the first transaction in the dataset. \n",
        "* The feature 'Amount' is the transaction Amount, this feature can be used for example-dependant cost-sensitive learning. Feature 'Class' is the response variable and it takes **value 1 in case of fraud** and **0 if not fraud**."
      ],
      "metadata": {
        "id": "TnpuD5JIv6Xr"
      }
    },
    {
      "cell_type": "code",
      "source": [
        "# Load the dataset\n",
        "path = '/content/creditcard.csv'\n",
        "df = pd.read_csv(path)\n",
        "\n",
        "# View head\n",
        "df.head(3)"
      ],
      "metadata": {
        "colab": {
          "base_uri": "https://localhost:8080/",
          "height": 173
        },
        "id": "QI-KL2vQotDT",
        "outputId": "ed3894f9-5c59-4e2f-a21a-3246bbac844f"
      },
      "execution_count": 3,
      "outputs": [
        {
          "output_type": "execute_result",
          "data": {
            "text/plain": [
              "   Time        V1        V2        V3        V4        V5        V6        V7  \\\n",
              "0   0.0 -1.359807 -0.072781  2.536347  1.378155 -0.338321  0.462388  0.239599   \n",
              "1   0.0  1.191857  0.266151  0.166480  0.448154  0.060018 -0.082361 -0.078803   \n",
              "2   1.0 -1.358354 -1.340163  1.773209  0.379780 -0.503198  1.800499  0.791461   \n",
              "\n",
              "         V8        V9  ...       V21       V22       V23       V24       V25  \\\n",
              "0  0.098698  0.363787  ... -0.018307  0.277838 -0.110474  0.066928  0.128539   \n",
              "1  0.085102 -0.255425  ... -0.225775 -0.638672  0.101288 -0.339846  0.167170   \n",
              "2  0.247676 -1.514654  ...  0.247998  0.771679  0.909412 -0.689281 -0.327642   \n",
              "\n",
              "        V26       V27       V28  Amount  Class  \n",
              "0 -0.189115  0.133558 -0.021053  149.62      0  \n",
              "1  0.125895 -0.008983  0.014724    2.69      0  \n",
              "2 -0.139097 -0.055353 -0.059752  378.66      0  \n",
              "\n",
              "[3 rows x 31 columns]"
            ],
            "text/html": [
              "\n",
              "  <div id=\"df-cbb58160-9b74-45ec-ba35-0e7d62168693\">\n",
              "    <div class=\"colab-df-container\">\n",
              "      <div>\n",
              "<style scoped>\n",
              "    .dataframe tbody tr th:only-of-type {\n",
              "        vertical-align: middle;\n",
              "    }\n",
              "\n",
              "    .dataframe tbody tr th {\n",
              "        vertical-align: top;\n",
              "    }\n",
              "\n",
              "    .dataframe thead th {\n",
              "        text-align: right;\n",
              "    }\n",
              "</style>\n",
              "<table border=\"1\" class=\"dataframe\">\n",
              "  <thead>\n",
              "    <tr style=\"text-align: right;\">\n",
              "      <th></th>\n",
              "      <th>Time</th>\n",
              "      <th>V1</th>\n",
              "      <th>V2</th>\n",
              "      <th>V3</th>\n",
              "      <th>V4</th>\n",
              "      <th>V5</th>\n",
              "      <th>V6</th>\n",
              "      <th>V7</th>\n",
              "      <th>V8</th>\n",
              "      <th>V9</th>\n",
              "      <th>...</th>\n",
              "      <th>V21</th>\n",
              "      <th>V22</th>\n",
              "      <th>V23</th>\n",
              "      <th>V24</th>\n",
              "      <th>V25</th>\n",
              "      <th>V26</th>\n",
              "      <th>V27</th>\n",
              "      <th>V28</th>\n",
              "      <th>Amount</th>\n",
              "      <th>Class</th>\n",
              "    </tr>\n",
              "  </thead>\n",
              "  <tbody>\n",
              "    <tr>\n",
              "      <th>0</th>\n",
              "      <td>0.0</td>\n",
              "      <td>-1.359807</td>\n",
              "      <td>-0.072781</td>\n",
              "      <td>2.536347</td>\n",
              "      <td>1.378155</td>\n",
              "      <td>-0.338321</td>\n",
              "      <td>0.462388</td>\n",
              "      <td>0.239599</td>\n",
              "      <td>0.098698</td>\n",
              "      <td>0.363787</td>\n",
              "      <td>...</td>\n",
              "      <td>-0.018307</td>\n",
              "      <td>0.277838</td>\n",
              "      <td>-0.110474</td>\n",
              "      <td>0.066928</td>\n",
              "      <td>0.128539</td>\n",
              "      <td>-0.189115</td>\n",
              "      <td>0.133558</td>\n",
              "      <td>-0.021053</td>\n",
              "      <td>149.62</td>\n",
              "      <td>0</td>\n",
              "    </tr>\n",
              "    <tr>\n",
              "      <th>1</th>\n",
              "      <td>0.0</td>\n",
              "      <td>1.191857</td>\n",
              "      <td>0.266151</td>\n",
              "      <td>0.166480</td>\n",
              "      <td>0.448154</td>\n",
              "      <td>0.060018</td>\n",
              "      <td>-0.082361</td>\n",
              "      <td>-0.078803</td>\n",
              "      <td>0.085102</td>\n",
              "      <td>-0.255425</td>\n",
              "      <td>...</td>\n",
              "      <td>-0.225775</td>\n",
              "      <td>-0.638672</td>\n",
              "      <td>0.101288</td>\n",
              "      <td>-0.339846</td>\n",
              "      <td>0.167170</td>\n",
              "      <td>0.125895</td>\n",
              "      <td>-0.008983</td>\n",
              "      <td>0.014724</td>\n",
              "      <td>2.69</td>\n",
              "      <td>0</td>\n",
              "    </tr>\n",
              "    <tr>\n",
              "      <th>2</th>\n",
              "      <td>1.0</td>\n",
              "      <td>-1.358354</td>\n",
              "      <td>-1.340163</td>\n",
              "      <td>1.773209</td>\n",
              "      <td>0.379780</td>\n",
              "      <td>-0.503198</td>\n",
              "      <td>1.800499</td>\n",
              "      <td>0.791461</td>\n",
              "      <td>0.247676</td>\n",
              "      <td>-1.514654</td>\n",
              "      <td>...</td>\n",
              "      <td>0.247998</td>\n",
              "      <td>0.771679</td>\n",
              "      <td>0.909412</td>\n",
              "      <td>-0.689281</td>\n",
              "      <td>-0.327642</td>\n",
              "      <td>-0.139097</td>\n",
              "      <td>-0.055353</td>\n",
              "      <td>-0.059752</td>\n",
              "      <td>378.66</td>\n",
              "      <td>0</td>\n",
              "    </tr>\n",
              "  </tbody>\n",
              "</table>\n",
              "<p>3 rows × 31 columns</p>\n",
              "</div>\n",
              "      <button class=\"colab-df-convert\" onclick=\"convertToInteractive('df-cbb58160-9b74-45ec-ba35-0e7d62168693')\"\n",
              "              title=\"Convert this dataframe to an interactive table.\"\n",
              "              style=\"display:none;\">\n",
              "        \n",
              "  <svg xmlns=\"http://www.w3.org/2000/svg\" height=\"24px\"viewBox=\"0 0 24 24\"\n",
              "       width=\"24px\">\n",
              "    <path d=\"M0 0h24v24H0V0z\" fill=\"none\"/>\n",
              "    <path d=\"M18.56 5.44l.94 2.06.94-2.06 2.06-.94-2.06-.94-.94-2.06-.94 2.06-2.06.94zm-11 1L8.5 8.5l.94-2.06 2.06-.94-2.06-.94L8.5 2.5l-.94 2.06-2.06.94zm10 10l.94 2.06.94-2.06 2.06-.94-2.06-.94-.94-2.06-.94 2.06-2.06.94z\"/><path d=\"M17.41 7.96l-1.37-1.37c-.4-.4-.92-.59-1.43-.59-.52 0-1.04.2-1.43.59L10.3 9.45l-7.72 7.72c-.78.78-.78 2.05 0 2.83L4 21.41c.39.39.9.59 1.41.59.51 0 1.02-.2 1.41-.59l7.78-7.78 2.81-2.81c.8-.78.8-2.07 0-2.86zM5.41 20L4 18.59l7.72-7.72 1.47 1.35L5.41 20z\"/>\n",
              "  </svg>\n",
              "      </button>\n",
              "      \n",
              "  <style>\n",
              "    .colab-df-container {\n",
              "      display:flex;\n",
              "      flex-wrap:wrap;\n",
              "      gap: 12px;\n",
              "    }\n",
              "\n",
              "    .colab-df-convert {\n",
              "      background-color: #E8F0FE;\n",
              "      border: none;\n",
              "      border-radius: 50%;\n",
              "      cursor: pointer;\n",
              "      display: none;\n",
              "      fill: #1967D2;\n",
              "      height: 32px;\n",
              "      padding: 0 0 0 0;\n",
              "      width: 32px;\n",
              "    }\n",
              "\n",
              "    .colab-df-convert:hover {\n",
              "      background-color: #E2EBFA;\n",
              "      box-shadow: 0px 1px 2px rgba(60, 64, 67, 0.3), 0px 1px 3px 1px rgba(60, 64, 67, 0.15);\n",
              "      fill: #174EA6;\n",
              "    }\n",
              "\n",
              "    [theme=dark] .colab-df-convert {\n",
              "      background-color: #3B4455;\n",
              "      fill: #D2E3FC;\n",
              "    }\n",
              "\n",
              "    [theme=dark] .colab-df-convert:hover {\n",
              "      background-color: #434B5C;\n",
              "      box-shadow: 0px 1px 3px 1px rgba(0, 0, 0, 0.15);\n",
              "      filter: drop-shadow(0px 1px 2px rgba(0, 0, 0, 0.3));\n",
              "      fill: #FFFFFF;\n",
              "    }\n",
              "  </style>\n",
              "\n",
              "      <script>\n",
              "        const buttonEl =\n",
              "          document.querySelector('#df-cbb58160-9b74-45ec-ba35-0e7d62168693 button.colab-df-convert');\n",
              "        buttonEl.style.display =\n",
              "          google.colab.kernel.accessAllowed ? 'block' : 'none';\n",
              "\n",
              "        async function convertToInteractive(key) {\n",
              "          const element = document.querySelector('#df-cbb58160-9b74-45ec-ba35-0e7d62168693');\n",
              "          const dataTable =\n",
              "            await google.colab.kernel.invokeFunction('convertToInteractive',\n",
              "                                                     [key], {});\n",
              "          if (!dataTable) return;\n",
              "\n",
              "          const docLinkHtml = 'Like what you see? Visit the ' +\n",
              "            '<a target=\"_blank\" href=https://colab.research.google.com/notebooks/data_table.ipynb>data table notebook</a>'\n",
              "            + ' to learn more about interactive tables.';\n",
              "          element.innerHTML = '';\n",
              "          dataTable['output_type'] = 'display_data';\n",
              "          await google.colab.output.renderOutput(dataTable, element);\n",
              "          const docLink = document.createElement('div');\n",
              "          docLink.innerHTML = docLinkHtml;\n",
              "          element.appendChild(docLink);\n",
              "        }\n",
              "      </script>\n",
              "    </div>\n",
              "  </div>\n",
              "  "
            ]
          },
          "metadata": {},
          "execution_count": 3
        }
      ]
    },
    {
      "cell_type": "code",
      "source": [
        "# Check dataset shape and types\n",
        "df.info()"
      ],
      "metadata": {
        "colab": {
          "base_uri": "https://localhost:8080/"
        },
        "id": "EDKqGKaCw7B9",
        "outputId": "eb1af7bd-bc3f-4675-f3f9-fd85c5a0f396"
      },
      "execution_count": 4,
      "outputs": [
        {
          "output_type": "stream",
          "name": "stdout",
          "text": [
            "<class 'pandas.core.frame.DataFrame'>\n",
            "RangeIndex: 284807 entries, 0 to 284806\n",
            "Data columns (total 31 columns):\n",
            " #   Column  Non-Null Count   Dtype  \n",
            "---  ------  --------------   -----  \n",
            " 0   Time    284807 non-null  float64\n",
            " 1   V1      284807 non-null  float64\n",
            " 2   V2      284807 non-null  float64\n",
            " 3   V3      284807 non-null  float64\n",
            " 4   V4      284807 non-null  float64\n",
            " 5   V5      284807 non-null  float64\n",
            " 6   V6      284807 non-null  float64\n",
            " 7   V7      284807 non-null  float64\n",
            " 8   V8      284807 non-null  float64\n",
            " 9   V9      284807 non-null  float64\n",
            " 10  V10     284807 non-null  float64\n",
            " 11  V11     284807 non-null  float64\n",
            " 12  V12     284807 non-null  float64\n",
            " 13  V13     284807 non-null  float64\n",
            " 14  V14     284807 non-null  float64\n",
            " 15  V15     284807 non-null  float64\n",
            " 16  V16     284807 non-null  float64\n",
            " 17  V17     284807 non-null  float64\n",
            " 18  V18     284807 non-null  float64\n",
            " 19  V19     284807 non-null  float64\n",
            " 20  V20     284807 non-null  float64\n",
            " 21  V21     284807 non-null  float64\n",
            " 22  V22     284807 non-null  float64\n",
            " 23  V23     284807 non-null  float64\n",
            " 24  V24     284807 non-null  float64\n",
            " 25  V25     284807 non-null  float64\n",
            " 26  V26     284807 non-null  float64\n",
            " 27  V27     284807 non-null  float64\n",
            " 28  V28     284807 non-null  float64\n",
            " 29  Amount  284807 non-null  float64\n",
            " 30  Class   284807 non-null  int64  \n",
            "dtypes: float64(30), int64(1)\n",
            "memory usage: 67.4 MB\n"
          ]
        }
      ]
    },
    {
      "cell_type": "markdown",
      "source": [
        "**`Analysis`**: \n",
        "\n",
        "The data has all the 284,807 transactions with 31 *numeric* columns and **no null values found** (all 'non-null values are the same as the row count). That is a good start.\n",
        "\n",
        "As this data is normalized with PCA, there's not much information we can take from a statistical description of the dataset. The columns Amount, Time and Class can maybe give us some insights."
      ],
      "metadata": {
        "id": "sct2Sgh5yfIT"
      }
    },
    {
      "cell_type": "markdown",
      "source": [
        "## Exploratory Analysis"
      ],
      "metadata": {
        "id": "NK09uFeW0yiK"
      }
    },
    {
      "cell_type": "code",
      "source": [
        "# Statistical description of Time, Class and Amount\n",
        "df[ ['Time', 'Class', 'Amount'] ].describe().T"
      ],
      "metadata": {
        "colab": {
          "base_uri": "https://localhost:8080/",
          "height": 143
        },
        "id": "rrYeRgVbyerv",
        "outputId": "f67e3905-1036-4735-a60b-292cfa5c82c5"
      },
      "execution_count": 5,
      "outputs": [
        {
          "output_type": "execute_result",
          "data": {
            "text/plain": [
              "           count          mean           std  min      25%      50%  \\\n",
              "Time    284807.0  94813.859575  47488.145955  0.0  54201.5  84692.0   \n",
              "Class   284807.0      0.001727      0.041527  0.0      0.0      0.0   \n",
              "Amount  284807.0     88.349619    250.120109  0.0      5.6     22.0   \n",
              "\n",
              "               75%        max  \n",
              "Time    139320.500  172792.00  \n",
              "Class        0.000       1.00  \n",
              "Amount      77.165   25691.16  "
            ],
            "text/html": [
              "\n",
              "  <div id=\"df-743a3751-1c57-47c9-8fc6-4a668f7bbfb6\">\n",
              "    <div class=\"colab-df-container\">\n",
              "      <div>\n",
              "<style scoped>\n",
              "    .dataframe tbody tr th:only-of-type {\n",
              "        vertical-align: middle;\n",
              "    }\n",
              "\n",
              "    .dataframe tbody tr th {\n",
              "        vertical-align: top;\n",
              "    }\n",
              "\n",
              "    .dataframe thead th {\n",
              "        text-align: right;\n",
              "    }\n",
              "</style>\n",
              "<table border=\"1\" class=\"dataframe\">\n",
              "  <thead>\n",
              "    <tr style=\"text-align: right;\">\n",
              "      <th></th>\n",
              "      <th>count</th>\n",
              "      <th>mean</th>\n",
              "      <th>std</th>\n",
              "      <th>min</th>\n",
              "      <th>25%</th>\n",
              "      <th>50%</th>\n",
              "      <th>75%</th>\n",
              "      <th>max</th>\n",
              "    </tr>\n",
              "  </thead>\n",
              "  <tbody>\n",
              "    <tr>\n",
              "      <th>Time</th>\n",
              "      <td>284807.0</td>\n",
              "      <td>94813.859575</td>\n",
              "      <td>47488.145955</td>\n",
              "      <td>0.0</td>\n",
              "      <td>54201.5</td>\n",
              "      <td>84692.0</td>\n",
              "      <td>139320.500</td>\n",
              "      <td>172792.00</td>\n",
              "    </tr>\n",
              "    <tr>\n",
              "      <th>Class</th>\n",
              "      <td>284807.0</td>\n",
              "      <td>0.001727</td>\n",
              "      <td>0.041527</td>\n",
              "      <td>0.0</td>\n",
              "      <td>0.0</td>\n",
              "      <td>0.0</td>\n",
              "      <td>0.000</td>\n",
              "      <td>1.00</td>\n",
              "    </tr>\n",
              "    <tr>\n",
              "      <th>Amount</th>\n",
              "      <td>284807.0</td>\n",
              "      <td>88.349619</td>\n",
              "      <td>250.120109</td>\n",
              "      <td>0.0</td>\n",
              "      <td>5.6</td>\n",
              "      <td>22.0</td>\n",
              "      <td>77.165</td>\n",
              "      <td>25691.16</td>\n",
              "    </tr>\n",
              "  </tbody>\n",
              "</table>\n",
              "</div>\n",
              "      <button class=\"colab-df-convert\" onclick=\"convertToInteractive('df-743a3751-1c57-47c9-8fc6-4a668f7bbfb6')\"\n",
              "              title=\"Convert this dataframe to an interactive table.\"\n",
              "              style=\"display:none;\">\n",
              "        \n",
              "  <svg xmlns=\"http://www.w3.org/2000/svg\" height=\"24px\"viewBox=\"0 0 24 24\"\n",
              "       width=\"24px\">\n",
              "    <path d=\"M0 0h24v24H0V0z\" fill=\"none\"/>\n",
              "    <path d=\"M18.56 5.44l.94 2.06.94-2.06 2.06-.94-2.06-.94-.94-2.06-.94 2.06-2.06.94zm-11 1L8.5 8.5l.94-2.06 2.06-.94-2.06-.94L8.5 2.5l-.94 2.06-2.06.94zm10 10l.94 2.06.94-2.06 2.06-.94-2.06-.94-.94-2.06-.94 2.06-2.06.94z\"/><path d=\"M17.41 7.96l-1.37-1.37c-.4-.4-.92-.59-1.43-.59-.52 0-1.04.2-1.43.59L10.3 9.45l-7.72 7.72c-.78.78-.78 2.05 0 2.83L4 21.41c.39.39.9.59 1.41.59.51 0 1.02-.2 1.41-.59l7.78-7.78 2.81-2.81c.8-.78.8-2.07 0-2.86zM5.41 20L4 18.59l7.72-7.72 1.47 1.35L5.41 20z\"/>\n",
              "  </svg>\n",
              "      </button>\n",
              "      \n",
              "  <style>\n",
              "    .colab-df-container {\n",
              "      display:flex;\n",
              "      flex-wrap:wrap;\n",
              "      gap: 12px;\n",
              "    }\n",
              "\n",
              "    .colab-df-convert {\n",
              "      background-color: #E8F0FE;\n",
              "      border: none;\n",
              "      border-radius: 50%;\n",
              "      cursor: pointer;\n",
              "      display: none;\n",
              "      fill: #1967D2;\n",
              "      height: 32px;\n",
              "      padding: 0 0 0 0;\n",
              "      width: 32px;\n",
              "    }\n",
              "\n",
              "    .colab-df-convert:hover {\n",
              "      background-color: #E2EBFA;\n",
              "      box-shadow: 0px 1px 2px rgba(60, 64, 67, 0.3), 0px 1px 3px 1px rgba(60, 64, 67, 0.15);\n",
              "      fill: #174EA6;\n",
              "    }\n",
              "\n",
              "    [theme=dark] .colab-df-convert {\n",
              "      background-color: #3B4455;\n",
              "      fill: #D2E3FC;\n",
              "    }\n",
              "\n",
              "    [theme=dark] .colab-df-convert:hover {\n",
              "      background-color: #434B5C;\n",
              "      box-shadow: 0px 1px 3px 1px rgba(0, 0, 0, 0.15);\n",
              "      filter: drop-shadow(0px 1px 2px rgba(0, 0, 0, 0.3));\n",
              "      fill: #FFFFFF;\n",
              "    }\n",
              "  </style>\n",
              "\n",
              "      <script>\n",
              "        const buttonEl =\n",
              "          document.querySelector('#df-743a3751-1c57-47c9-8fc6-4a668f7bbfb6 button.colab-df-convert');\n",
              "        buttonEl.style.display =\n",
              "          google.colab.kernel.accessAllowed ? 'block' : 'none';\n",
              "\n",
              "        async function convertToInteractive(key) {\n",
              "          const element = document.querySelector('#df-743a3751-1c57-47c9-8fc6-4a668f7bbfb6');\n",
              "          const dataTable =\n",
              "            await google.colab.kernel.invokeFunction('convertToInteractive',\n",
              "                                                     [key], {});\n",
              "          if (!dataTable) return;\n",
              "\n",
              "          const docLinkHtml = 'Like what you see? Visit the ' +\n",
              "            '<a target=\"_blank\" href=https://colab.research.google.com/notebooks/data_table.ipynb>data table notebook</a>'\n",
              "            + ' to learn more about interactive tables.';\n",
              "          element.innerHTML = '';\n",
              "          dataTable['output_type'] = 'display_data';\n",
              "          await google.colab.output.renderOutput(dataTable, element);\n",
              "          const docLink = document.createElement('div');\n",
              "          docLink.innerHTML = docLinkHtml;\n",
              "          element.appendChild(docLink);\n",
              "        }\n",
              "      </script>\n",
              "    </div>\n",
              "  </div>\n",
              "  "
            ]
          },
          "metadata": {},
          "execution_count": 5
        }
      ]
    },
    {
      "cell_type": "markdown",
      "source": [
        "**`Analysis`**: \n",
        "\n",
        "* For *Time*, as the max is on the 172k range and the mean is at 94k, it shows me that the majority of the transactions are on the second day of the data extraction.\n",
        "* The mean of *Class* very close to zero already shows the imbalance of the dataset, what we will confirm later.\n",
        "* There are outliers in *Amount*. A \\$25k transaction on a dataset with $22 median points that. "
      ],
      "metadata": {
        "id": "VE4FaNyq1OD6"
      }
    },
    {
      "cell_type": "markdown",
      "source": [
        "#### Do we have more frauds for higher or lower Amounts spent?"
      ],
      "metadata": {
        "id": "h2Gu789127GR"
      }
    },
    {
      "cell_type": "code",
      "source": [
        "# Slice data\n",
        "frauds = df.query('Class == 1')\n",
        "\n",
        "# Setup figure\n",
        "plt.figure(figsize=(20,7))\n",
        "\n",
        "# Plot\n",
        "sns.histplot(data = frauds, x='Amount')\n",
        "# Reference line\n",
        "plt.vlines(x= 130, ymin=0, ymax=270, linestyles='--', alpha=.3)\n",
        "plt.title('Small Amounts: The majority of the frauds are below $130', size=15);"
      ],
      "metadata": {
        "colab": {
          "base_uri": "https://localhost:8080/",
          "height": 460
        },
        "id": "dQ1i9ZZyydxC",
        "outputId": "73a58a51-ecee-4689-cd24-e782658d703d"
      },
      "execution_count": 6,
      "outputs": [
        {
          "output_type": "display_data",
          "data": {
            "text/plain": [
              "<Figure size 1440x504 with 1 Axes>"
            ],
            "image/png": "[encoded data removed]"
          },
          "metadata": {
            "needs_background": "light"
          }
        }
      ]
    },
    {
      "cell_type": "markdown",
      "source": [
        "**`Analysis`**: \n",
        "It looks like NOT. The majority of the frauds are below $130."
      ],
      "metadata": {
        "id": "9VTYEO6I4NUo"
      }
    },
    {
      "cell_type": "code",
      "source": [
        "# Slice data\n",
        "frauds = df.query('Class == 1')\n",
        "\n",
        "# Setup figure\n",
        "plt.figure(figsize=(7,10))\n",
        "\n",
        "# Plot\n",
        "my_pal = {0: 'green', 1:'red'}\n",
        "sns.boxplot(data = df.query('Amount < 200'), x='Class', y='Amount', palette= my_pal)\n",
        "\n",
        "plt.title('Small Amounts: The majority of the frauds are below $130', size=15);"
      ],
      "metadata": {
        "colab": {
          "base_uri": "https://localhost:8080/",
          "height": 623
        },
        "id": "5GYpGUczNGzY",
        "outputId": "cc45a5ea-00aa-4c66-b078-057622ca3691"
      },
      "execution_count": 7,
      "outputs": [
        {
          "output_type": "display_data",
          "data": {
            "text/plain": [
              "<Figure size 504x720 with 1 Axes>"
            ],
            "image/png": "[encoded data removed]"
          },
          "metadata": {
            "needs_background": "light"
          }
        }
      ]
    },
    {
      "cell_type": "markdown",
      "source": [
        "### Can we see any pattern of Frauds vs Time?"
      ],
      "metadata": {
        "id": "l9-F9K3t71Av"
      }
    },
    {
      "cell_type": "code",
      "source": [
        "# Setup figure\n",
        "plt.figure(figsize=(20,7))\n",
        "\n",
        "# Plot\n",
        "sns.histplot(data = df.query('Class == 0'), x='Time', bins=70)\n",
        "plt.title('Not Fraud', size=20);"
      ],
      "metadata": {
        "colab": {
          "base_uri": "https://localhost:8080/",
          "height": 463
        },
        "id": "2D6gR79w3MJh",
        "outputId": "e127efa5-7ced-4d27-e2d2-65fad130adb7"
      },
      "execution_count": 8,
      "outputs": [
        {
          "output_type": "display_data",
          "data": {
            "text/plain": [
              "<Figure size 1440x504 with 1 Axes>"
            ],
            "image/png": "[encoded data removed]"
          },
          "metadata": {
            "needs_background": "light"
          }
        }
      ]
    },
    {
      "cell_type": "code",
      "source": [
        "# Setup figure\n",
        "plt.figure(figsize=(20,7))\n",
        "\n",
        "# Plot\n",
        "sns.histplot(data = frauds, x='Time', color='darkorange', bins=70)\n",
        "plt.title('Frauds', size=20);"
      ],
      "metadata": {
        "colab": {
          "base_uri": "https://localhost:8080/",
          "height": 463
        },
        "id": "-x0ZK_ss7NHD",
        "outputId": "59e315db-8c8e-4540-fb4d-be0d01d992ed"
      },
      "execution_count": 9,
      "outputs": [
        {
          "output_type": "display_data",
          "data": {
            "text/plain": [
              "<Figure size 1440x504 with 1 Axes>"
            ],
            "image/png": "[encoded data removed]"
          },
          "metadata": {
            "needs_background": "light"
          }
        }
      ]
    },
    {
      "cell_type": "markdown",
      "source": [
        "**`Analysis`**: \n",
        "As we have more transactions, more frauds appear, what makes sense.\n",
        "\n",
        "There is no much more we can do to explore this data as it brings only transformed variables.\n",
        "But let's look at the categories graphic and visualy see the unbalance."
      ],
      "metadata": {
        "id": "8lAdmPrg-eVl"
      }
    },
    {
      "cell_type": "code",
      "source": [
        "# Setup figure\n",
        "plt.figure(figsize=(10,7))\n",
        "\n",
        "# Check imbalance\n",
        "sns.countplot(data=df, x='Class', hue='Class')\n",
        "for i in [0,1]:\n",
        "  plt.annotate(f'{round(df.Class.value_counts(normalize=True)[i],4)}%',\n",
        "               xy=( i , df.Class.value_counts()[i]+2000),\n",
        "               ha='center')\n",
        "  plt.title('Only 0.17% of frauds', size=20);"
      ],
      "metadata": {
        "colab": {
          "base_uri": "https://localhost:8080/",
          "height": 463
        },
        "id": "hRUp7xCtPgbV",
        "outputId": "6d7513c1-f020-4aaf-a74b-cd53357eec18"
      },
      "execution_count": 10,
      "outputs": [
        {
          "output_type": "display_data",
          "data": {
            "text/plain": [
              "<Figure size 720x504 with 1 Axes>"
            ],
            "image/png": "[encoded data removed]"
          },
          "metadata": {
            "needs_background": "light"
          }
        }
      ]
    },
    {
      "cell_type": "markdown",
      "source": [
        "## Scale Variables\n",
        "\n",
        "Before we move to the imbalance correction, let's scale the variables Time and Amount to make sure those are in the same scale of the rest of the dataset. That will help the algorithm to correctly identify the frauds."
      ],
      "metadata": {
        "id": "wu9syG-dFaKb"
      }
    },
    {
      "cell_type": "code",
      "source": [
        "# Create a copy of the dataset for scaling\n",
        "df_scaled = df.copy()\n",
        "\n",
        "# Scaler instance\n",
        "scaler = StandardScaler()\n",
        "\n",
        "# Standardize the data\n",
        "# Add the scaled variables to the dataset\n",
        "df_scaled['time_scaled'] = scaler.fit_transform(df_scaled[['Time']])\n",
        "df_scaled['amount_scaled'] = scaler.fit_transform(df_scaled[['Amount']])\n",
        "\n",
        "# Drop non-scaled variables from the dataset\n",
        "df_scaled.drop(['Time', 'Amount'], axis=1, inplace=True)\n",
        "\n",
        "df_scaled.head(2)"
      ],
      "metadata": {
        "colab": {
          "base_uri": "https://localhost:8080/",
          "height": 141
        },
        "id": "CZVXMwJkF1ql",
        "outputId": "5851da36-2369-4997-ebdf-d6096aacaf6d"
      },
      "execution_count": 232,
      "outputs": [
        {
          "output_type": "execute_result",
          "data": {
            "text/plain": [
              "         V1        V2        V3        V4        V5        V6        V7  \\\n",
              "0 -1.359807 -0.072781  2.536347  1.378155 -0.338321  0.462388  0.239599   \n",
              "1  1.191857  0.266151  0.166480  0.448154  0.060018 -0.082361 -0.078803   \n",
              "\n",
              "         V8        V9       V10  ...       V22       V23       V24       V25  \\\n",
              "0  0.098698  0.363787  0.090794  ...  0.277838 -0.110474  0.066928  0.128539   \n",
              "1  0.085102 -0.255425 -0.166974  ... -0.638672  0.101288 -0.339846  0.167170   \n",
              "\n",
              "        V26       V27       V28  Class  time_scaled  amount_scaled  \n",
              "0 -0.189115  0.133558 -0.021053      0    -1.996583       0.244964  \n",
              "1  0.125895 -0.008983  0.014724      0    -1.996583      -0.342475  \n",
              "\n",
              "[2 rows x 31 columns]"
            ],
            "text/html": [
              "\n",
              "  <div id=\"df-eb2d2365-57af-4977-8d32-edecdf280a6c\">\n",
              "    <div class=\"colab-df-container\">\n",
              "      <div>\n",
              "<style scoped>\n",
              "    .dataframe tbody tr th:only-of-type {\n",
              "        vertical-align: middle;\n",
              "    }\n",
              "\n",
              "    .dataframe tbody tr th {\n",
              "        vertical-align: top;\n",
              "    }\n",
              "\n",
              "    .dataframe thead th {\n",
              "        text-align: right;\n",
              "    }\n",
              "</style>\n",
              "<table border=\"1\" class=\"dataframe\">\n",
              "  <thead>\n",
              "    <tr style=\"text-align: right;\">\n",
              "      <th></th>\n",
              "      <th>V1</th>\n",
              "      <th>V2</th>\n",
              "      <th>V3</th>\n",
              "      <th>V4</th>\n",
              "      <th>V5</th>\n",
              "      <th>V6</th>\n",
              "      <th>V7</th>\n",
              "      <th>V8</th>\n",
              "      <th>V9</th>\n",
              "      <th>V10</th>\n",
              "      <th>...</th>\n",
              "      <th>V22</th>\n",
              "      <th>V23</th>\n",
              "      <th>V24</th>\n",
              "      <th>V25</th>\n",
              "      <th>V26</th>\n",
              "      <th>V27</th>\n",
              "      <th>V28</th>\n",
              "      <th>Class</th>\n",
              "      <th>time_scaled</th>\n",
              "      <th>amount_scaled</th>\n",
              "    </tr>\n",
              "  </thead>\n",
              "  <tbody>\n",
              "    <tr>\n",
              "      <th>0</th>\n",
              "      <td>-1.359807</td>\n",
              "      <td>-0.072781</td>\n",
              "      <td>2.536347</td>\n",
              "      <td>1.378155</td>\n",
              "      <td>-0.338321</td>\n",
              "      <td>0.462388</td>\n",
              "      <td>0.239599</td>\n",
              "      <td>0.098698</td>\n",
              "      <td>0.363787</td>\n",
              "      <td>0.090794</td>\n",
              "      <td>...</td>\n",
              "      <td>0.277838</td>\n",
              "      <td>-0.110474</td>\n",
              "      <td>0.066928</td>\n",
              "      <td>0.128539</td>\n",
              "      <td>-0.189115</td>\n",
              "      <td>0.133558</td>\n",
              "      <td>-0.021053</td>\n",
              "      <td>0</td>\n",
              "      <td>-1.996583</td>\n",
              "      <td>0.244964</td>\n",
              "    </tr>\n",
              "    <tr>\n",
              "      <th>1</th>\n",
              "      <td>1.191857</td>\n",
              "      <td>0.266151</td>\n",
              "      <td>0.166480</td>\n",
              "      <td>0.448154</td>\n",
              "      <td>0.060018</td>\n",
              "      <td>-0.082361</td>\n",
              "      <td>-0.078803</td>\n",
              "      <td>0.085102</td>\n",
              "      <td>-0.255425</td>\n",
              "      <td>-0.166974</td>\n",
              "      <td>...</td>\n",
              "      <td>-0.638672</td>\n",
              "      <td>0.101288</td>\n",
              "      <td>-0.339846</td>\n",
              "      <td>0.167170</td>\n",
              "      <td>0.125895</td>\n",
              "      <td>-0.008983</td>\n",
              "      <td>0.014724</td>\n",
              "      <td>0</td>\n",
              "      <td>-1.996583</td>\n",
              "      <td>-0.342475</td>\n",
              "    </tr>\n",
              "  </tbody>\n",
              "</table>\n",
              "<p>2 rows × 31 columns</p>\n",
              "</div>\n",
              "      <button class=\"colab-df-convert\" onclick=\"convertToInteractive('df-eb2d2365-57af-4977-8d32-edecdf280a6c')\"\n",
              "              title=\"Convert this dataframe to an interactive table.\"\n",
              "              style=\"display:none;\">\n",
              "        \n",
              "  <svg xmlns=\"http://www.w3.org/2000/svg\" height=\"24px\"viewBox=\"0 0 24 24\"\n",
              "       width=\"24px\">\n",
              "    <path d=\"M0 0h24v24H0V0z\" fill=\"none\"/>\n",
              "    <path d=\"M18.56 5.44l.94 2.06.94-2.06 2.06-.94-2.06-.94-.94-2.06-.94 2.06-2.06.94zm-11 1L8.5 8.5l.94-2.06 2.06-.94-2.06-.94L8.5 2.5l-.94 2.06-2.06.94zm10 10l.94 2.06.94-2.06 2.06-.94-2.06-.94-.94-2.06-.94 2.06-2.06.94z\"/><path d=\"M17.41 7.96l-1.37-1.37c-.4-.4-.92-.59-1.43-.59-.52 0-1.04.2-1.43.59L10.3 9.45l-7.72 7.72c-.78.78-.78 2.05 0 2.83L4 21.41c.39.39.9.59 1.41.59.51 0 1.02-.2 1.41-.59l7.78-7.78 2.81-2.81c.8-.78.8-2.07 0-2.86zM5.41 20L4 18.59l7.72-7.72 1.47 1.35L5.41 20z\"/>\n",
              "  </svg>\n",
              "      </button>\n",
              "      \n",
              "  <style>\n",
              "    .colab-df-container {\n",
              "      display:flex;\n",
              "      flex-wrap:wrap;\n",
              "      gap: 12px;\n",
              "    }\n",
              "\n",
              "    .colab-df-convert {\n",
              "      background-color: #E8F0FE;\n",
              "      border: none;\n",
              "      border-radius: 50%;\n",
              "      cursor: pointer;\n",
              "      display: none;\n",
              "      fill: #1967D2;\n",
              "      height: 32px;\n",
              "      padding: 0 0 0 0;\n",
              "      width: 32px;\n",
              "    }\n",
              "\n",
              "    .colab-df-convert:hover {\n",
              "      background-color: #E2EBFA;\n",
              "      box-shadow: 0px 1px 2px rgba(60, 64, 67, 0.3), 0px 1px 3px 1px rgba(60, 64, 67, 0.15);\n",
              "      fill: #174EA6;\n",
              "    }\n",
              "\n",
              "    [theme=dark] .colab-df-convert {\n",
              "      background-color: #3B4455;\n",
              "      fill: #D2E3FC;\n",
              "    }\n",
              "\n",
              "    [theme=dark] .colab-df-convert:hover {\n",
              "      background-color: #434B5C;\n",
              "      box-shadow: 0px 1px 3px 1px rgba(0, 0, 0, 0.15);\n",
              "      filter: drop-shadow(0px 1px 2px rgba(0, 0, 0, 0.3));\n",
              "      fill: #FFFFFF;\n",
              "    }\n",
              "  </style>\n",
              "\n",
              "      <script>\n",
              "        const buttonEl =\n",
              "          document.querySelector('#df-eb2d2365-57af-4977-8d32-edecdf280a6c button.colab-df-convert');\n",
              "        buttonEl.style.display =\n",
              "          google.colab.kernel.accessAllowed ? 'block' : 'none';\n",
              "\n",
              "        async function convertToInteractive(key) {\n",
              "          const element = document.querySelector('#df-eb2d2365-57af-4977-8d32-edecdf280a6c');\n",
              "          const dataTable =\n",
              "            await google.colab.kernel.invokeFunction('convertToInteractive',\n",
              "                                                     [key], {});\n",
              "          if (!dataTable) return;\n",
              "\n",
              "          const docLinkHtml = 'Like what you see? Visit the ' +\n",
              "            '<a target=\"_blank\" href=https://colab.research.google.com/notebooks/data_table.ipynb>data table notebook</a>'\n",
              "            + ' to learn more about interactive tables.';\n",
              "          element.innerHTML = '';\n",
              "          dataTable['output_type'] = 'display_data';\n",
              "          await google.colab.output.renderOutput(dataTable, element);\n",
              "          const docLink = document.createElement('div');\n",
              "          docLink.innerHTML = docLinkHtml;\n",
              "          element.appendChild(docLink);\n",
              "        }\n",
              "      </script>\n",
              "    </div>\n",
              "  </div>\n",
              "  "
            ]
          },
          "metadata": {},
          "execution_count": 232
        }
      ]
    },
    {
      "cell_type": "code",
      "source": [
        "# Predictors (X) and Response (y)\n",
        "X = df_scaled.drop('Class', axis=1)\n",
        "y = df_scaled['Class']"
      ],
      "metadata": {
        "id": "DGPdFlMJHPUv"
      },
      "execution_count": 233,
      "outputs": []
    },
    {
      "cell_type": "markdown",
      "source": [
        "## Imbalance\n",
        "\n",
        "For classification problems, a balanced dataset is crucial because the algorithm will learn according to what's presented to it. If we present 99% of non-fraud transactions, the model will not be able to learn what differentiates a fraudulent operation and will not be able to generalize well.\n",
        "\n",
        "Another good point to make is that with this highly unbalanced data, you can be fooled by the results. Let's think this through for a moment: if we classify all of our transactions as non-fraud, we would still be getting a 99% of accuracy and Precision, but our Recall will be terrible. I won't find any frauds."
      ],
      "metadata": {
        "id": "JRZVAxHE_Xr5"
      }
    },
    {
      "cell_type": "code",
      "source": [
        "# Setup figure\n",
        "plt.figure(figsize=(10,7))\n",
        "\n",
        "# Check imbalance\n",
        "sns.countplot(data=df_scaled, x='Class', hue='Class')\n",
        "for i in [0,1]:\n",
        "  plt.annotate(f'{round(df_scaled.Class.value_counts(normalize=True)[i],4)}%',\n",
        "               xy=( i , df_scaled.Class.value_counts()[i]+2000),\n",
        "               ha='center');"
      ],
      "metadata": {
        "colab": {
          "base_uri": "https://localhost:8080/",
          "height": 442
        },
        "id": "xV89ja0j8d5l",
        "outputId": "73456a80-60de-486d-d611-4cd24be0e9c4"
      },
      "execution_count": 234,
      "outputs": [
        {
          "output_type": "display_data",
          "data": {
            "text/plain": [
              "<Figure size 720x504 with 1 Axes>"
            ],
            "image/png": "[encoded data removed]"
          },
          "metadata": {
            "needs_background": "light"
          }
        }
      ]
    },
    {
      "cell_type": "markdown",
      "source": [
        "To deal with that problem, let's use two techniques for over sampling the minority Class and the Under Sampling for the majority Class.\n",
        "\n",
        "[imblearn.org](https://imbalanced-learn.org/stable/introduction.html)"
      ],
      "metadata": {
        "id": "IGxDe2INDwL4"
      }
    },
    {
      "cell_type": "markdown",
      "source": [
        "### Oversampling\n",
        "- Oversampling: Increase the number of observations from the minority class using an algorithm that creates observations that are similar to the minority class, aiming to balance both classes.\n",
        "- The oversampling will create observations for the minority class at an amount equal to 10% of the total of the dataset."
      ],
      "metadata": {
        "id": "RA9cy79rRy89"
      }
    },
    {
      "cell_type": "code",
      "source": [
        "sm = SMOTE(random_state=0, sampling_strategy= 0.10)\n",
        "\n",
        "X_train_oversampled, y_train_oversampled = sm.fit_resample(X, y)"
      ],
      "metadata": {
        "id": "yLWEvDxNR1Q9"
      },
      "execution_count": 235,
      "outputs": []
    },
    {
      "cell_type": "code",
      "source": [
        "# Gather train dataset\n",
        "df_train = pd.concat([X_train_oversampled, y_train_oversampled], axis=1)\n",
        "\n",
        "# Setup figure\n",
        "plt.figure(figsize=(10,7))\n",
        "\n",
        "# Check imbalance\n",
        "sns.countplot(data=df_train, x='Class', hue='Class')\n",
        "for i in [0,1]:\n",
        "  plt.annotate(f'{round(df_train.Class.value_counts(normalize=True)[i],3)}%',\n",
        "               xy=( i , df_train.Class.value_counts()[i]),\n",
        "               ha='center');"
      ],
      "metadata": {
        "colab": {
          "base_uri": "https://localhost:8080/",
          "height": 442
        },
        "id": "KLntMUe-TbJ1",
        "outputId": "6a72a0d5-dfd1-48a7-b424-7f3fdd3e7361"
      },
      "execution_count": 236,
      "outputs": [
        {
          "output_type": "display_data",
          "data": {
            "text/plain": [
              "<Figure size 720x504 with 1 Axes>"
            ],
            "image/png": "[encoded data removed]"
          },
          "metadata": {
            "needs_background": "light"
          }
        }
      ]
    },
    {
      "cell_type": "code",
      "source": [
        "# Numbers after oversampling\n",
        "df_train.Class.value_counts()"
      ],
      "metadata": {
        "colab": {
          "base_uri": "https://localhost:8080/"
        },
        "id": "UNkmYlBxs3-z",
        "outputId": "049b46e4-9ecd-4e56-d4b2-a3e3b2d67ea2"
      },
      "execution_count": 237,
      "outputs": [
        {
          "output_type": "execute_result",
          "data": {
            "text/plain": [
              "0    284315\n",
              "1     28431\n",
              "Name: Class, dtype: int64"
            ]
          },
          "metadata": {},
          "execution_count": 237
        }
      ]
    },
    {
      "cell_type": "markdown",
      "source": [
        "### Undersampling\n",
        "\n",
        "- Undersampling: Reduce the number of observations of the majority class using statistical sampling.\n",
        "- Now, after increasing the number of observations from the minority class, let's combine that with the undersampling and decrease the size of the majority class, as it is still very big.\n",
        "\n",
        "Combining both methods will help us to get better results. If we use only undersampling, the traning dataset becomes too small. If we use only the oversampling in this case, the number of synthetic observations will be too large, increasing the risk of creating bad data and, consequently, bad training."
      ],
      "metadata": {
        "id": "u8_pemVBRu9S"
      }
    },
    {
      "cell_type": "code",
      "source": [
        "#from imblearn.under_sampling import NearMiss\n",
        "#nm = NearMiss()\n",
        "\n",
        "#X_train_overunder, y_train_overunder = nm.fit_resample(X_train_oversampled, y_train_oversampled)"
      ],
      "metadata": {
        "id": "E9c9JfPuffFY"
      },
      "execution_count": 193,
      "outputs": []
    },
    {
      "cell_type": "code",
      "source": [
        "rus = RandomUnderSampler(sampling_strategy='majority', random_state=0)\n",
        "X_train_overunder, y_train_overunder = rus.fit_resample(X_train_oversampled, y_train_oversampled)"
      ],
      "metadata": {
        "id": "nEapFPORDa5K"
      },
      "execution_count": 238,
      "outputs": []
    },
    {
      "cell_type": "code",
      "source": [
        "# Gather train dataset\n",
        "df_train = pd.concat([X_train_overunder, y_train_overunder], axis=1)\n",
        "\n",
        "# Setup figure\n",
        "plt.figure(figsize=(10,7))\n",
        "\n",
        "# Check imbalance\n",
        "sns.countplot(data=df_train, x='Class', hue='Class')\n",
        "for i in [0,1]:\n",
        "  plt.annotate(f'{round(df_train.Class.value_counts(normalize=True)[i],3)}%',\n",
        "               xy=( i , df_train.Class.value_counts()[i]),\n",
        "               ha='center');"
      ],
      "metadata": {
        "colab": {
          "base_uri": "https://localhost:8080/",
          "height": 442
        },
        "id": "4aCFLOk5UQQu",
        "outputId": "611b0a25-fd11-4c5f-a19e-06f2f6699e3d"
      },
      "execution_count": 239,
      "outputs": [
        {
          "output_type": "display_data",
          "data": {
            "text/plain": [
              "<Figure size 720x504 with 1 Axes>"
            ],
            "image/png": "[encoded data removed]"
          },
          "metadata": {
            "needs_background": "light"
          }
        }
      ]
    },
    {
      "cell_type": "code",
      "source": [
        "# Numbers after undersampling\n",
        "df_train.Class.value_counts()"
      ],
      "metadata": {
        "colab": {
          "base_uri": "https://localhost:8080/"
        },
        "id": "tRpiYxMb8DCi",
        "outputId": "38d15037-cfdf-4f96-ff47-670d4da12ac8"
      },
      "execution_count": 240,
      "outputs": [
        {
          "output_type": "execute_result",
          "data": {
            "text/plain": [
              "0    28431\n",
              "1    28431\n",
              "Name: Class, dtype: int64"
            ]
          },
          "metadata": {},
          "execution_count": 240
        }
      ]
    },
    {
      "cell_type": "markdown",
      "source": [
        "## Train Test Split"
      ],
      "metadata": {
        "id": "uCB51HthBEZW"
      }
    },
    {
      "cell_type": "code",
      "source": [
        "# Train test split\n",
        "X_train, X_test, y_train, y_test = train_test_split(X_train_overunder, y_train_overunder, test_size=0.2, random_state=12)\n",
        "\n",
        "print(f'X: \\n{X_train.shape, X_test.shape}')\n",
        "print(f'y: \\n{y_train.shape, y_test.shape}')"
      ],
      "metadata": {
        "colab": {
          "base_uri": "https://localhost:8080/"
        },
        "id": "Nd0mhJBoBIUM",
        "outputId": "885ecd85-14cf-47a0-e152-910bea790bd5"
      },
      "execution_count": 241,
      "outputs": [
        {
          "output_type": "stream",
          "name": "stdout",
          "text": [
            "X: \n",
            "((45489, 30), (11373, 30))\n",
            "y: \n",
            "((45489,), (11373,))\n"
          ]
        }
      ]
    },
    {
      "cell_type": "markdown",
      "source": [
        "## Modeling"
      ],
      "metadata": {
        "id": "vytQ-Bg4VqF3"
      }
    },
    {
      "cell_type": "code",
      "source": [
        "# Create list of algorithms instances to be tested for selection\n",
        "models = [ ('Logistic Regression', LogisticRegression()),\n",
        "           ('Decision Tree', DecisionTreeClassifier()),\n",
        "           ('Random Forest', RandomForestClassifier()),\n",
        "           ('XGB', GradientBoostingClassifier()) ]"
      ],
      "metadata": {
        "id": "q6F23LFaTtUm"
      },
      "execution_count": 256,
      "outputs": []
    },
    {
      "cell_type": "markdown",
      "source": [
        "For a list of metrics available for `cross_validate()`, refer to [sklearn documentation](https://scikit-learn.org/stable/modules/model_evaluation.html#scoring-parameter) or run the code below:\n",
        "\n",
        "```\n",
        "from sklearn.metrics import SCORERS\n",
        "sorted(SCORERS.keys())\n",
        "```"
      ],
      "metadata": {
        "id": "G4O5-OaJEL-b"
      }
    },
    {
      "cell_type": "code",
      "source": [
        "# Create list to store results\n",
        "results =[]\n",
        "names = []\n",
        "\n",
        "# Test 4 models\n",
        "for name, model in models:\n",
        "  cv = cross_validate(model, X_train, y_train, cv=5 ,scoring=['precision', 'recall', 'f1'], return_estimator=True) \n",
        "  results.append(cv)\n",
        "  names.append(name)\n",
        "  print(f'+ Model : {name}')\n",
        "  print(f'F1: {np.mean(cv[\"test_f1\"]).round(3)} | Std: {np.std(cv[\"test_f1\"]).round(3)} ')\n",
        "  print(f'Precision: {np.mean(cv[\"test_precision\"]).round(3)} | Std: {np.std(cv[\"test_precision\"]).round(3)} ')\n",
        "  print(f'Recall: {np.mean(cv[\"test_recall\"]).round(3)} | Std: {np.std(cv[\"test_recall\"]).round(3)} ')\n",
        "  print('--------------------')"
      ],
      "metadata": {
        "colab": {
          "base_uri": "https://localhost:8080/"
        },
        "id": "7qtrEiolV75d",
        "outputId": "1cc7fe01-2bf0-4808-c73c-3070cd21b932"
      },
      "execution_count": 258,
      "outputs": [
        {
          "output_type": "stream",
          "name": "stdout",
          "text": [
            "+ Model : Logistic Regression\n",
            "F1: 0.945 | Std: 0.001 \n",
            "Precision: 0.973 | Std: 0.004 \n",
            "Recall: 0.918 | Std: 0.001 \n",
            "--------------------\n",
            "+ Model : Decision Tree\n",
            "F1: 0.984 | Std: 0.0 \n",
            "Precision: 0.98 | Std: 0.001 \n",
            "Recall: 0.988 | Std: 0.0 \n",
            "--------------------\n",
            "+ Model : Random Forest\n",
            "F1: 0.996 | Std: 0.0 \n",
            "Precision: 0.998 | Std: 0.0 \n",
            "Recall: 0.995 | Std: 0.001 \n",
            "--------------------\n",
            "+ Model : XGB\n",
            "F1: 0.975 | Std: 0.001 \n",
            "Precision: 0.984 | Std: 0.002 \n",
            "Recall: 0.966 | Std: 0.001 \n",
            "--------------------\n"
          ]
        }
      ]
    },
    {
      "cell_type": "markdown",
      "source": [
        "**`Analysis`**: The measure used here was area under the curve and it was performed a cross validation for better results. The *Logistic Regression* and the *Decision Tree* presented a good performance, around 99%.\n",
        "\n",
        "The ensemble models such as *Random Forest* and *Extreme Gradient Boost* returned a better performance, however we must be careful with **RF** regarding overfitting, as the result is too close to 100% F1. \n",
        "\n",
        "I will build a tunned model using Random Forest, trying to reduce the overfitting and will also build a XGBoost to better compare and select a final model for predictions."
      ],
      "metadata": {
        "id": "Szt-DQDvCLwR"
      }
    },
    {
      "cell_type": "markdown",
      "source": [
        "### Random Forest"
      ],
      "metadata": {
        "id": "ADJs1gNeDpvv"
      }
    },
    {
      "cell_type": "code",
      "source": [
        "# List\n",
        "scores = []\n",
        "# Test values of minimum samples per leaf\n",
        "for min_sample in range(1,21,5):\n",
        "  # Model\n",
        "  rf_model = RandomForestClassifier(n_estimators=10, min_samples_leaf= min_sample, random_state=12).fit(X_train, y_train)\n",
        "  y_hat = rf_model.predict(X_test)\n",
        "  scores.append( f1_score(y_test, y_hat) )\n",
        "\n",
        "# Plot\n",
        "sns.lineplot(x=range(1,21,5), y=scores)"
      ],
      "metadata": {
        "colab": {
          "base_uri": "https://localhost:8080/",
          "height": 283
        },
        "id": "ga8nBKkyGcYQ",
        "outputId": "da69b78e-da0e-472c-d6bb-eb2960ce1e4f"
      },
      "execution_count": 261,
      "outputs": [
        {
          "output_type": "execute_result",
          "data": {
            "text/plain": [
              "<matplotlib.axes._subplots.AxesSubplot at 0x7f1fc097d510>"
            ]
          },
          "metadata": {},
          "execution_count": 261
        },
        {
          "output_type": "display_data",
          "data": {
            "text/plain": [
              "<Figure size 432x288 with 1 Axes>"
            ],
            "image/png": "[encoded data removed]"
          },
          "metadata": {
            "needs_background": "light"
          }
        }
      ]
    },
    {
      "cell_type": "code",
      "source": [
        "# Instanciate the model\n",
        "rf_model = RandomForestClassifier(n_estimators=50, min_samples_leaf= 15, random_state=12)\n",
        "# Fit\n",
        "rf_model.fit(X_train, y_train)\n",
        "\n",
        "# Predict\n",
        "preds_rf = rf_model.predict(X_test)\n",
        "\n",
        "print(classification_report(y_test, preds_rf))"
      ],
      "metadata": {
        "colab": {
          "base_uri": "https://localhost:8080/"
        },
        "id": "R-BBJD80V8AR",
        "outputId": "b2ba69f2-bd4d-424b-f98c-167c866630be"
      },
      "execution_count": 262,
      "outputs": [
        {
          "output_type": "stream",
          "name": "stdout",
          "text": [
            "              precision    recall  f1-score   support\n",
            "\n",
            "           0       0.99      1.00      0.99      5717\n",
            "           1       1.00      0.99      0.99      5656\n",
            "\n",
            "    accuracy                           0.99     11373\n",
            "   macro avg       0.99      0.99      0.99     11373\n",
            "weighted avg       0.99      0.99      0.99     11373\n",
            "\n"
          ]
        }
      ]
    },
    {
      "cell_type": "code",
      "source": [
        "# Confusion Matrix RF\n",
        "plt.figure(figsize=(6,6))\n",
        "matriz_rf = confusion_matrix(y_test, preds_rf)\n",
        "sns.heatmap(matriz_rf, square=True, annot=True, fmt='.0f', cbar=False, cmap= 'Blues')\n",
        "\n",
        "plt.title('Confusion Matrix - Random Forest',\n",
        "          fontsize = 14,\n",
        "          pad= 20, \n",
        "          fontweight= 'bold')\n",
        "\n",
        "plt.xlabel('Predictions',fontsize = 12)\n",
        "plt.ylabel('True Value'  ,fontsize = 12)\n",
        "\n",
        "plt.show()"
      ],
      "metadata": {
        "colab": {
          "base_uri": "https://localhost:8080/",
          "height": 422
        },
        "id": "-8lBZPnlJMo8",
        "outputId": "6ddc979f-e335-461f-cc69-4b0795f38b86"
      },
      "execution_count": 286,
      "outputs": [
        {
          "output_type": "display_data",
          "data": {
            "text/plain": [
              "<Figure size 432x432 with 1 Axes>"
            ],
            "image/png": "[encoded data removed]"
          },
          "metadata": {
            "needs_background": "light"
          }
        }
      ]
    },
    {
      "cell_type": "markdown",
      "source": [
        "### XGBoost"
      ],
      "metadata": {
        "id": "AotMr2adMBKK"
      }
    },
    {
      "cell_type": "code",
      "source": [
        "# List\n",
        "scores = []\n",
        "# Test values of minimum samples per leaf\n",
        "for est in [20, 100, 400]:\n",
        "  # Model\n",
        "  gb_model = GradientBoostingClassifier(n_estimators=est, random_state= 12).fit(X_train, y_train)\n",
        "  y_hat = gb_model.predict(X_test)\n",
        "  scores.append( f1_score(y_test, y_hat) )\n",
        "\n",
        "# Plot\n",
        "sns.lineplot(x=[20, 100, 400], y=scores)"
      ],
      "metadata": {
        "colab": {
          "base_uri": "https://localhost:8080/",
          "height": 283
        },
        "id": "46MynPFDLrIk",
        "outputId": "5045b1a2-71d6-4d45-c0a1-909690c53f15"
      },
      "execution_count": 277,
      "outputs": [
        {
          "output_type": "execute_result",
          "data": {
            "text/plain": [
              "<matplotlib.axes._subplots.AxesSubplot at 0x7f1fc06e3a90>"
            ]
          },
          "metadata": {},
          "execution_count": 277
        },
        {
          "output_type": "display_data",
          "data": {
            "text/plain": [
              "<Figure size 432x288 with 1 Axes>"
            ],
            "image/png": "[encoded data removed]"
          },
          "metadata": {
            "needs_background": "light"
          }
        }
      ]
    },
    {
      "cell_type": "code",
      "source": [
        "# Gradient Boost Model instance and fit\n",
        "gb_model = GradientBoostingClassifier(n_estimators=300, random_state= 12).fit(X_train, y_train)"
      ],
      "metadata": {
        "id": "Ylk3tYy_V8JS"
      },
      "execution_count": 278,
      "outputs": []
    },
    {
      "cell_type": "code",
      "source": [
        "preds_gb = gb_model.predict(X_test)\n",
        "\n",
        "# Results report\n",
        "print(classification_report(y_test, preds_gb))"
      ],
      "metadata": {
        "colab": {
          "base_uri": "https://localhost:8080/"
        },
        "id": "Mdpdcvp8-I0J",
        "outputId": "d6dd840d-8401-41a7-a30a-03c735e4a178"
      },
      "execution_count": 279,
      "outputs": [
        {
          "output_type": "stream",
          "name": "stdout",
          "text": [
            "              precision    recall  f1-score   support\n",
            "\n",
            "           0       1.00      0.99      0.99      5717\n",
            "           1       0.99      1.00      0.99      5656\n",
            "\n",
            "    accuracy                           0.99     11373\n",
            "   macro avg       0.99      0.99      0.99     11373\n",
            "weighted avg       0.99      0.99      0.99     11373\n",
            "\n"
          ]
        }
      ]
    },
    {
      "cell_type": "code",
      "source": [
        "# Confusion Matrix XGB\n",
        "plt.figure(figsize=(6,6))\n",
        "matriz_gb = confusion_matrix(y_test, preds_gb)\n",
        "sns.heatmap(matriz_gb, square=True, annot=True, fmt='.0f', cbar=False, cmap= 'Blues')\n",
        "\n",
        "plt.title('Confusion Matrix - XGB',\n",
        "          fontsize = 14,\n",
        "          pad= 20, \n",
        "          fontweight= 'bold')\n",
        "\n",
        "plt.xlabel('Predictions',fontsize = 12)\n",
        "plt.ylabel('True Value'  ,fontsize = 12)\n",
        "\n",
        "plt.show()"
      ],
      "metadata": {
        "colab": {
          "base_uri": "https://localhost:8080/",
          "height": 422
        },
        "id": "19muKc6raP9f",
        "outputId": "5e66d534-d3d8-4584-b480-299e5567a84b"
      },
      "execution_count": 287,
      "outputs": [
        {
          "output_type": "display_data",
          "data": {
            "text/plain": [
              "<Figure size 432x432 with 1 Axes>"
            ],
            "image/png": "[encoded data removed]"
          },
          "metadata": {
            "needs_background": "light"
          }
        }
      ]
    },
    {
      "cell_type": "code",
      "source": [
        ""
      ],
      "metadata": {
        "id": "cMDtuIZhaqD_"
      },
      "execution_count": null,
      "outputs": []
    },
    {
      "cell_type": "markdown",
      "source": [
        "## Evaluating the Models"
      ],
      "metadata": {
        "id": "FAB_ZtvcKGN3"
      }
    },
    {
      "cell_type": "code",
      "source": [
        "# Create Dataframe\n",
        "pd.DataFrame({'Random Forest':{'Precision': precision_score(y_test, preds_rf), 'Recall':recall_score(y_test, preds_rf), 'F1': f1_score(y_test, preds_rf), 'Type 1 Error': matriz_rf[0,1], 'Type 2 Error': matriz_rf[1,0]},\n",
        "              'XGB':{'Precision': precision_score(y_test, preds_gb), 'Recall':recall_score(y_test, preds_gb), 'F1': f1_score(y_test, preds_gb), 'Type 1 Error': matriz_gb[0,1], 'Type 2 Error': matriz_gb[1,0]}\n",
        "              })"
      ],
      "metadata": {
        "colab": {
          "base_uri": "https://localhost:8080/",
          "height": 206
        },
        "id": "PeBf4R4nKLQb",
        "outputId": "3eaec11e-d696-44d3-e78f-8b67d5a5dd95"
      },
      "execution_count": 288,
      "outputs": [
        {
          "output_type": "execute_result",
          "data": {
            "text/plain": [
              "              Random Forest        XGB\n",
              "Precision          0.997678   0.994522\n",
              "Recall             0.987447   0.995050\n",
              "F1                 0.992536   0.994786\n",
              "Type 1 Error      13.000000  31.000000\n",
              "Type 2 Error      71.000000  28.000000"
            ],
            "text/html": [
              "\n",
              "  <div id=\"df-b3361f00-012a-4bc6-ac93-f4a16890dd32\">\n",
              "    <div class=\"colab-df-container\">\n",
              "      <div>\n",
              "<style scoped>\n",
              "    .dataframe tbody tr th:only-of-type {\n",
              "        vertical-align: middle;\n",
              "    }\n",
              "\n",
              "    .dataframe tbody tr th {\n",
              "        vertical-align: top;\n",
              "    }\n",
              "\n",
              "    .dataframe thead th {\n",
              "        text-align: right;\n",
              "    }\n",
              "</style>\n",
              "<table border=\"1\" class=\"dataframe\">\n",
              "  <thead>\n",
              "    <tr style=\"text-align: right;\">\n",
              "      <th></th>\n",
              "      <th>Random Forest</th>\n",
              "      <th>XGB</th>\n",
              "    </tr>\n",
              "  </thead>\n",
              "  <tbody>\n",
              "    <tr>\n",
              "      <th>Precision</th>\n",
              "      <td>0.997678</td>\n",
              "      <td>0.994522</td>\n",
              "    </tr>\n",
              "    <tr>\n",
              "      <th>Recall</th>\n",
              "      <td>0.987447</td>\n",
              "      <td>0.995050</td>\n",
              "    </tr>\n",
              "    <tr>\n",
              "      <th>F1</th>\n",
              "      <td>0.992536</td>\n",
              "      <td>0.994786</td>\n",
              "    </tr>\n",
              "    <tr>\n",
              "      <th>Type 1 Error</th>\n",
              "      <td>13.000000</td>\n",
              "      <td>31.000000</td>\n",
              "    </tr>\n",
              "    <tr>\n",
              "      <th>Type 2 Error</th>\n",
              "      <td>71.000000</td>\n",
              "      <td>28.000000</td>\n",
              "    </tr>\n",
              "  </tbody>\n",
              "</table>\n",
              "</div>\n",
              "      <button class=\"colab-df-convert\" onclick=\"convertToInteractive('df-b3361f00-012a-4bc6-ac93-f4a16890dd32')\"\n",
              "              title=\"Convert this dataframe to an interactive table.\"\n",
              "              style=\"display:none;\">\n",
              "        \n",
              "  <svg xmlns=\"http://www.w3.org/2000/svg\" height=\"24px\"viewBox=\"0 0 24 24\"\n",
              "       width=\"24px\">\n",
              "    <path d=\"M0 0h24v24H0V0z\" fill=\"none\"/>\n",
              "    <path d=\"M18.56 5.44l.94 2.06.94-2.06 2.06-.94-2.06-.94-.94-2.06-.94 2.06-2.06.94zm-11 1L8.5 8.5l.94-2.06 2.06-.94-2.06-.94L8.5 2.5l-.94 2.06-2.06.94zm10 10l.94 2.06.94-2.06 2.06-.94-2.06-.94-.94-2.06-.94 2.06-2.06.94z\"/><path d=\"M17.41 7.96l-1.37-1.37c-.4-.4-.92-.59-1.43-.59-.52 0-1.04.2-1.43.59L10.3 9.45l-7.72 7.72c-.78.78-.78 2.05 0 2.83L4 21.41c.39.39.9.59 1.41.59.51 0 1.02-.2 1.41-.59l7.78-7.78 2.81-2.81c.8-.78.8-2.07 0-2.86zM5.41 20L4 18.59l7.72-7.72 1.47 1.35L5.41 20z\"/>\n",
              "  </svg>\n",
              "      </button>\n",
              "      \n",
              "  <style>\n",
              "    .colab-df-container {\n",
              "      display:flex;\n",
              "      flex-wrap:wrap;\n",
              "      gap: 12px;\n",
              "    }\n",
              "\n",
              "    .colab-df-convert {\n",
              "      background-color: #E8F0FE;\n",
              "      border: none;\n",
              "      border-radius: 50%;\n",
              "      cursor: pointer;\n",
              "      display: none;\n",
              "      fill: #1967D2;\n",
              "      height: 32px;\n",
              "      padding: 0 0 0 0;\n",
              "      width: 32px;\n",
              "    }\n",
              "\n",
              "    .colab-df-convert:hover {\n",
              "      background-color: #E2EBFA;\n",
              "      box-shadow: 0px 1px 2px rgba(60, 64, 67, 0.3), 0px 1px 3px 1px rgba(60, 64, 67, 0.15);\n",
              "      fill: #174EA6;\n",
              "    }\n",
              "\n",
              "    [theme=dark] .colab-df-convert {\n",
              "      background-color: #3B4455;\n",
              "      fill: #D2E3FC;\n",
              "    }\n",
              "\n",
              "    [theme=dark] .colab-df-convert:hover {\n",
              "      background-color: #434B5C;\n",
              "      box-shadow: 0px 1px 3px 1px rgba(0, 0, 0, 0.15);\n",
              "      filter: drop-shadow(0px 1px 2px rgba(0, 0, 0, 0.3));\n",
              "      fill: #FFFFFF;\n",
              "    }\n",
              "  </style>\n",
              "\n",
              "      <script>\n",
              "        const buttonEl =\n",
              "          document.querySelector('#df-b3361f00-012a-4bc6-ac93-f4a16890dd32 button.colab-df-convert');\n",
              "        buttonEl.style.display =\n",
              "          google.colab.kernel.accessAllowed ? 'block' : 'none';\n",
              "\n",
              "        async function convertToInteractive(key) {\n",
              "          const element = document.querySelector('#df-b3361f00-012a-4bc6-ac93-f4a16890dd32');\n",
              "          const dataTable =\n",
              "            await google.colab.kernel.invokeFunction('convertToInteractive',\n",
              "                                                     [key], {});\n",
              "          if (!dataTable) return;\n",
              "\n",
              "          const docLinkHtml = 'Like what you see? Visit the ' +\n",
              "            '<a target=\"_blank\" href=https://colab.research.google.com/notebooks/data_table.ipynb>data table notebook</a>'\n",
              "            + ' to learn more about interactive tables.';\n",
              "          element.innerHTML = '';\n",
              "          dataTable['output_type'] = 'display_data';\n",
              "          await google.colab.output.renderOutput(dataTable, element);\n",
              "          const docLink = document.createElement('div');\n",
              "          docLink.innerHTML = docLinkHtml;\n",
              "          element.appendChild(docLink);\n",
              "        }\n",
              "      </script>\n",
              "    </div>\n",
              "  </div>\n",
              "  "
            ]
          },
          "metadata": {},
          "execution_count": 288
        }
      ]
    },
    {
      "cell_type": "markdown",
      "source": [
        "**`Analysis`**: The models are giving very similar results, with XGB performing slightly better. Therefore, that will be the final model chosen."
      ],
      "metadata": {
        "id": "wpypXpNcNI-i"
      }
    },
    {
      "cell_type": "markdown",
      "source": [
        "## Conclusion"
      ],
      "metadata": {
        "id": "cFcw1LgDOwkC"
      }
    },
    {
      "cell_type": "markdown",
      "source": [
        "The project started from a very unbalanced dataset, where we hd to find the frauds within a very far majority of regular transactions.\n",
        "\n",
        "After some formatting and balancing the dataset, it became much easier for the algorithm to find the transactions that had a different pattern than expected, pointing us to the frauds.\n",
        "\n",
        "The final model presented over 99% of F1 in the test set, so a great balance between Precision (from the transactions classified as fraud, 99.4% were actually frauds) and Recall (from all the frauds, we were able to find 99.5%).\n",
        "\n",
        "For this type of project, our intention is to minimize the Type 2 error, when we fail to stop a fraudulent transaction over the Type 1, which is to stop a regular transaction as fraud.\n",
        "\n",
        "The **XGB** model had only 28 fraudulent transactions that were not stopped against 71 from the RF model."
      ],
      "metadata": {
        "id": "W-TdXlBnO0QJ"
      }
    },
    {
      "cell_type": "code",
      "source": [
        ""
      ],
      "metadata": {
        "id": "Aps811aZRWyK"
      },
      "execution_count": null,
      "outputs": []
    }
  ]
}